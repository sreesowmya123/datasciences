{
  "nbformat": 4,
  "nbformat_minor": 0,
  "metadata": {
    "colab": {
      "name": "Untitled3.ipynb",
      "provenance": []
    },
    "kernelspec": {
      "name": "python3",
      "display_name": "Python 3"
    }
  },
  "cells": [
    {
      "cell_type": "code",
      "metadata": {
        "id": "NCsRf4e0t9H3",
        "colab_type": "code",
        "colab": {}
      },
      "source": [
        ""
      ],
      "execution_count": null,
      "outputs": []
    },
    {
      "cell_type": "markdown",
      "metadata": {
        "id": "p33ahQ3ku99h",
        "colab_type": "text"
      },
      "source": [
        "Hand written Digit Recognition"
      ]
    },
    {
      "cell_type": "markdown",
      "metadata": {
        "id": "AR3tVIaHvIrq",
        "colab_type": "text"
      },
      "source": [
        ""
      ]
    },
    {
      "cell_type": "markdown",
      "metadata": {
        "id": "gIM9mg0yvXWS",
        "colab_type": "text"
      },
      "source": [
        "Data Collection"
      ]
    },
    {
      "cell_type": "markdown",
      "metadata": {
        "id": "BLNDYIDJvcar",
        "colab_type": "text"
      },
      "source": [
        "Importing the required packages"
      ]
    },
    {
      "cell_type": "code",
      "metadata": {
        "id": "hGHWsOD2wU55",
        "colab_type": "code",
        "colab": {}
      },
      "source": [
        "import tensorflow as tf\n",
        "import tensorflow.keras as keras\n",
        "import numpy as np\n",
        "import matplotlib.pyplot as plt\n",
        "%matplotlib inline"
      ],
      "execution_count": null,
      "outputs": []
    },
    {
      "cell_type": "markdown",
      "metadata": {
        "id": "Zm2wfekZwdFc",
        "colab_type": "text"
      },
      "source": [
        "Load MNIST data"
      ]
    },
    {
      "cell_type": "code",
      "metadata": {
        "id": "amafaO2Jwhuv",
        "colab_type": "code",
        "colab": {}
      },
      "source": [
        "from keras.datasets.mnist import load_data"
      ],
      "execution_count": null,
      "outputs": []
    },
    {
      "cell_type": "code",
      "metadata": {
        "id": "OnGdyycrwIdx",
        "colab_type": "code",
        "colab": {
          "base_uri": "https://localhost:8080/",
          "height": 35
        },
        "outputId": "4ec2671f-051d-4f02-a443-28ee3ceeb8fa"
      },
      "source": [
        "#load data--return values in 2 tuples(train and test)\n",
        "(train_digits,train_labels),(test_digits,test_labels)=load_data()\n",
        "print(train_digits.shape)"
      ],
      "execution_count": null,
      "outputs": [
        {
          "output_type": "stream",
          "text": [
            "(60000, 28, 28)\n"
          ],
          "name": "stdout"
        }
      ]
    },
    {
      "cell_type": "code",
      "metadata": {
        "id": "SWuxQ_x4vG1u",
        "colab_type": "code",
        "colab": {
          "base_uri": "https://localhost:8080/",
          "height": 35
        },
        "outputId": "b2f9392a-95c8-4490-d577-e4b676a5a0bf"
      },
      "source": [
        "print(test_digits.shape)\n"
      ],
      "execution_count": null,
      "outputs": [
        {
          "output_type": "stream",
          "text": [
            "(10000, 28, 28)\n"
          ],
          "name": "stdout"
        }
      ]
    },
    {
      "cell_type": "code",
      "metadata": {
        "id": "MdomBUzFxcoF",
        "colab_type": "code",
        "colab": {
          "base_uri": "https://localhost:8080/",
          "height": 35
        },
        "outputId": "e759461d-c8eb-4471-d01c-ef8ccd34052c"
      },
      "source": [
        "print(train_labels.shape)"
      ],
      "execution_count": null,
      "outputs": [
        {
          "output_type": "stream",
          "text": [
            "(60000,)\n"
          ],
          "name": "stdout"
        }
      ]
    },
    {
      "cell_type": "markdown",
      "metadata": {
        "id": "1SDfgtWMx8db",
        "colab_type": "text"
      },
      "source": [
        "### Class wise images count"
      ]
    },
    {
      "cell_type": "code",
      "metadata": {
        "id": "7hwZjj_uyRVT",
        "colab_type": "code",
        "colab": {
          "base_uri": "https://localhost:8080/",
          "height": 35
        },
        "outputId": "abbf9fc7-c2ff-4a9d-e5f7-0a0d940d9c69"
      },
      "source": [
        "type(train_labels)"
      ],
      "execution_count": null,
      "outputs": [
        {
          "output_type": "execute_result",
          "data": {
            "text/plain": [
              "numpy.ndarray"
            ]
          },
          "metadata": {
            "tags": []
          },
          "execution_count": 12
        }
      ]
    },
    {
      "cell_type": "code",
      "metadata": {
        "id": "TM610EOIyPOz",
        "colab_type": "code",
        "colab": {
          "base_uri": "https://localhost:8080/",
          "height": 217
        },
        "outputId": "d7c78b7f-0c11-4397-8113-22999cc7dedd"
      },
      "source": [
        "import pandas as pd\n",
        "pd.Series(train_labels).value_counts()"
      ],
      "execution_count": null,
      "outputs": [
        {
          "output_type": "execute_result",
          "data": {
            "text/plain": [
              "1    6742\n",
              "7    6265\n",
              "3    6131\n",
              "2    5958\n",
              "9    5949\n",
              "0    5923\n",
              "6    5918\n",
              "8    5851\n",
              "4    5842\n",
              "5    5421\n",
              "dtype: int64"
            ]
          },
          "metadata": {
            "tags": []
          },
          "execution_count": 21
        }
      ]
    },
    {
      "cell_type": "code",
      "metadata": {
        "id": "sawwAWQDzLu-",
        "colab_type": "code",
        "colab": {
          "base_uri": "https://localhost:8080/",
          "height": 217
        },
        "outputId": "d354e4e4-8912-476c-f5ca-ae1caecdd139"
      },
      "source": [
        "pd.Series(test_labels).value_counts()"
      ],
      "execution_count": null,
      "outputs": [
        {
          "output_type": "execute_result",
          "data": {
            "text/plain": [
              "1    1135\n",
              "2    1032\n",
              "7    1028\n",
              "3    1010\n",
              "9    1009\n",
              "4     982\n",
              "0     980\n",
              "8     974\n",
              "6     958\n",
              "5     892\n",
              "dtype: int64"
            ]
          },
          "metadata": {
            "tags": []
          },
          "execution_count": 20
        }
      ]
    },
    {
      "cell_type": "code",
      "metadata": {
        "id": "KOvYTucRzTv_",
        "colab_type": "code",
        "colab": {
          "base_uri": "https://localhost:8080/",
          "height": 217
        },
        "outputId": "88ab3802-263f-4303-d308-01154a16be46"
      },
      "source": [
        "pd.Series(train_labels).value_counts()"
      ],
      "execution_count": null,
      "outputs": [
        {
          "output_type": "execute_result",
          "data": {
            "text/plain": [
              "1    6742\n",
              "7    6265\n",
              "3    6131\n",
              "2    5958\n",
              "9    5949\n",
              "0    5923\n",
              "6    5918\n",
              "8    5851\n",
              "4    5842\n",
              "5    5421\n",
              "dtype: int64"
            ]
          },
          "metadata": {
            "tags": []
          },
          "execution_count": 19
        }
      ]
    },
    {
      "cell_type": "code",
      "metadata": {
        "id": "3ln6aQRsz2W9",
        "colab_type": "code",
        "colab": {
          "base_uri": "https://localhost:8080/",
          "height": 283
        },
        "outputId": "9949f1bc-d6f5-4095-d739-0a0f75375fa3"
      },
      "source": [
        "plt.imshow(train_digits[0])"
      ],
      "execution_count": null,
      "outputs": [
        {
          "output_type": "execute_result",
          "data": {
            "text/plain": [
              "<matplotlib.image.AxesImage at 0x7f197a8bc400>"
            ]
          },
          "metadata": {
            "tags": []
          },
          "execution_count": 22
        },
        {
          "output_type": "display_data",
          "data": {
            "image/png": "[encoded data removed]",
            "text/plain": [
              "<Figure size 432x288 with 1 Axes>"
            ]
          },
          "metadata": {
            "tags": [],
            "needs_background": "light"
          }
        }
      ]
    },
    {
      "cell_type": "code",
      "metadata": {
        "id": "3TRCeLvS0A38",
        "colab_type": "code",
        "colab": {
          "base_uri": "https://localhost:8080/",
          "height": 299
        },
        "outputId": "1bb08429-3c62-4068-ab37-3722817a7e67"
      },
      "source": [
        "plt.imshow(train_digits[0],cmap=\"gray\")\n",
        "plt.title(\"Digit\"+ str(train_labels[0]))"
      ],
      "execution_count": null,
      "outputs": [
        {
          "output_type": "execute_result",
          "data": {
            "text/plain": [
              "Text(0.5, 1.0, 'Digit5')"
            ]
          },
          "metadata": {
            "tags": []
          },
          "execution_count": 28
        },
        {
          "output_type": "display_data",
          "data": {
            "image/png": "[encoded data removed]",
            "text/plain": [
              "<Figure size 432x288 with 1 Axes>"
            ]
          },
          "metadata": {
            "tags": [],
            "needs_background": "light"
          }
        }
      ]
    },
    {
      "cell_type": "code",
      "metadata": {
        "id": "CPynjwdb0MQr",
        "colab_type": "code",
        "colab": {
          "base_uri": "https://localhost:8080/",
          "height": 828
        },
        "outputId": "91de77f0-baab-49a6-c88a-df15fa38b920"
      },
      "source": [
        "plt.hist(train_digits[0])"
      ],
      "execution_count": null,
      "outputs": [
        {
          "output_type": "execute_result",
          "data": {
            "text/plain": [
              "(array([[28.,  0.,  0.,  0.,  0.,  0.,  0.,  0.,  0.,  0.],\n",
              "        [28.,  0.,  0.,  0.,  0.,  0.,  0.,  0.,  0.,  0.],\n",
              "        [28.,  0.,  0.,  0.,  0.,  0.,  0.,  0.,  0.,  0.],\n",
              "        [28.,  0.,  0.,  0.,  0.,  0.,  0.,  0.,  0.,  0.],\n",
              "        [26.,  0.,  1.,  0.,  0.,  1.,  0.,  0.,  0.,  0.],\n",
              "        [26.,  0.,  0.,  0.,  0.,  0.,  1.,  0.,  0.,  1.],\n",
              "        [26.,  0.,  0.,  0.,  0.,  0.,  0.,  0.,  1.,  1.],\n",
              "        [24.,  1.,  0.,  0.,  0.,  0.,  1.,  0.,  0.,  2.],\n",
              "        [21.,  1.,  0.,  1.,  0.,  0.,  0.,  0.,  3.,  2.],\n",
              "        [20.,  1.,  1.,  0.,  0.,  1.,  1.,  0.,  0.,  4.],\n",
              "        [20.,  0.,  0.,  1.,  1.,  1.,  0.,  0.,  1.,  4.],\n",
              "        [18.,  0.,  0.,  0.,  1.,  1.,  2.,  0.,  0.,  6.],\n",
              "        [15.,  2.,  0.,  0.,  0.,  1.,  1.,  1.,  1.,  7.],\n",
              "        [15.,  0.,  0.,  2.,  0.,  1.,  0.,  2.,  1.,  7.],\n",
              "        [16.,  2.,  1.,  1.,  0.,  0.,  0.,  1.,  2.,  5.],\n",
              "        [18.,  0.,  0.,  0.,  0.,  1.,  1.,  3.,  0.,  5.],\n",
              "        [15.,  1.,  0.,  2.,  2.,  0.,  0.,  1.,  0.,  7.],\n",
              "        [16.,  0.,  0.,  0.,  1.,  1.,  1.,  1.,  0.,  8.],\n",
              "        [19.,  0.,  0.,  2.,  0.,  1.,  1.,  0.,  1.,  4.],\n",
              "        [20.,  2.,  0.,  1.,  0.,  0.,  1.,  2.,  1.,  1.],\n",
              "        [24.,  0.,  1.,  1.,  0.,  0.,  1.,  0.,  0.,  1.],\n",
              "        [25.,  0.,  1.,  0.,  0.,  0.,  0.,  0.,  0.,  2.],\n",
              "        [25.,  1.,  0.,  0.,  0.,  0.,  0.,  1.,  0.,  1.],\n",
              "        [26.,  0.,  1.,  0.,  1.,  0.,  0.,  0.,  0.,  0.],\n",
              "        [28.,  0.,  0.,  0.,  0.,  0.,  0.,  0.,  0.,  0.],\n",
              "        [28.,  0.,  0.,  0.,  0.,  0.,  0.,  0.,  0.,  0.],\n",
              "        [28.,  0.,  0.,  0.,  0.,  0.,  0.,  0.,  0.,  0.],\n",
              "        [28.,  0.,  0.,  0.,  0.,  0.,  0.,  0.,  0.,  0.]]),\n",
              " array([  0. ,  25.5,  51. ,  76.5, 102. , 127.5, 153. , 178.5, 204. ,\n",
              "        229.5, 255. ]),\n",
              " <a list of 28 Lists of Patches objects>)"
            ]
          },
          "metadata": {
            "tags": []
          },
          "execution_count": 29
        },
        {
          "output_type": "display_data",
          "data": {
            "image/png": "[encoded data removed]",
            "text/plain": [
              "<Figure size 432x288 with 1 Axes>"
            ]
          },
          "metadata": {
            "tags": [],
            "needs_background": "light"
          }
        }
      ]
    },
    {
      "cell_type": "code",
      "metadata": {
        "id": "7tDKhqPL0_HN",
        "colab_type": "code",
        "colab": {
          "base_uri": "https://localhost:8080/",
          "height": 337
        },
        "outputId": "960baf10-7c8b-4d1b-b681-9e39903501ef"
      },
      "source": [
        "plt.hist(train_digits[0].flat)"
      ],
      "execution_count": null,
      "outputs": [
        {
          "output_type": "execute_result",
          "data": {
            "text/plain": [
              "(array([639.,  11.,   6.,  11.,   6.,   9.,  11.,  12.,  11.,  68.]),\n",
              " array([  0. ,  25.5,  51. ,  76.5, 102. , 127.5, 153. , 178.5, 204. ,\n",
              "        229.5, 255. ]),\n",
              " <a list of 10 Patch objects>)"
            ]
          },
          "metadata": {
            "tags": []
          },
          "execution_count": 30
        },
        {
          "output_type": "display_data",
          "data": {
            "image/png": "[encoded data removed]",
            "text/plain": [
              "<Figure size 432x288 with 1 Axes>"
            ]
          },
          "metadata": {
            "tags": [],
            "needs_background": "light"
          }
        }
      ]
    },
    {
      "cell_type": "code",
      "metadata": {
        "id": "rDDAONrD2bpp",
        "colab_type": "code",
        "colab": {
          "base_uri": "https://localhost:8080/",
          "height": 35
        },
        "outputId": "420c6ccc-87ef-4f6d-e3cd-d287fc7feb0a"
      },
      "source": [
        "train_labels"
      ],
      "execution_count": null,
      "outputs": [
        {
          "output_type": "execute_result",
          "data": {
            "text/plain": [
              "array([5, 0, 4, ..., 5, 6, 8], dtype=uint8)"
            ]
          },
          "metadata": {
            "tags": []
          },
          "execution_count": 31
        }
      ]
    },
    {
      "cell_type": "code",
      "metadata": {
        "id": "V9EKfDQN2o4X",
        "colab_type": "code",
        "colab": {
          "base_uri": "https://localhost:8080/",
          "height": 283
        },
        "outputId": "b5579533-33e2-4c2b-b21c-1994a941932e"
      },
      "source": [
        "plt.imshow(train_digits[14])"
      ],
      "execution_count": null,
      "outputs": [
        {
          "output_type": "execute_result",
          "data": {
            "text/plain": [
              "<matplotlib.image.AxesImage at 0x7f1979c16f28>"
            ]
          },
          "metadata": {
            "tags": []
          },
          "execution_count": 34
        },
        {
          "output_type": "display_data",
          "data": {
            "image/png": "[encoded data removed]",
            "text/plain": [
              "<Figure size 432x288 with 1 Axes>"
            ]
          },
          "metadata": {
            "tags": [],
            "needs_background": "light"
          }
        }
      ]
    },
    {
      "cell_type": "code",
      "metadata": {
        "id": "dpFcqQ0Z2z7f",
        "colab_type": "code",
        "colab": {
          "base_uri": "https://localhost:8080/",
          "height": 337
        },
        "outputId": "c6c47f04-4a89-4cc4-9717-5c410f66ab0a"
      },
      "source": [
        "plt.hist(train_digits[14].flat)"
      ],
      "execution_count": null,
      "outputs": [
        {
          "output_type": "execute_result",
          "data": {
            "text/plain": [
              "(array([713.,  17.,   1.,   2.,  10.,   0.,   4.,   4.,   2.,  31.]),\n",
              " array([  0. ,  25.5,  51. ,  76.5, 102. , 127.5, 153. , 178.5, 204. ,\n",
              "        229.5, 255. ]),\n",
              " <a list of 10 Patch objects>)"
            ]
          },
          "metadata": {
            "tags": []
          },
          "execution_count": 36
        },
        {
          "output_type": "display_data",
          "data": {
            "image/png": "[encoded data removed]",
            "text/plain": [
              "<Figure size 432x288 with 1 Axes>"
            ]
          },
          "metadata": {
            "tags": [],
            "needs_background": "light"
          }
        }
      ]
    },
    {
      "cell_type": "code",
      "metadata": {
        "id": "AvD2_lXb3VN6",
        "colab_type": "code",
        "colab": {
          "base_uri": "https://localhost:8080/",
          "height": 54
        },
        "outputId": "9f0ac117-7475-4676-84e5-14a35274f3af"
      },
      "source": [
        "samples=np.random.randint(train_digits.shape[0],size=16)\n",
        "samples"
      ],
      "execution_count": null,
      "outputs": [
        {
          "output_type": "execute_result",
          "data": {
            "text/plain": [
              "array([27635, 35540,  6599, 35625,  4027,  4078, 35722, 57178, 46835,\n",
              "       22934,  7708, 17047, 13329, 27796,   911, 49017])"
            ]
          },
          "metadata": {
            "tags": []
          },
          "execution_count": 38
        }
      ]
    },
    {
      "cell_type": "code",
      "metadata": {
        "id": "1HBUw_pW5cmr",
        "colab_type": "code",
        "colab": {
          "base_uri": "https://localhost:8080/",
          "height": 934
        },
        "outputId": "c3fb2823-bf4a-45cd-c923-691a90e5506a"
      },
      "source": [
        "plt.figure(figsize=(16,16))\n",
        "j=1\n",
        "for i in samples:\n",
        "    plt.subplot(4,4,j)\n",
        "    plt.imshow(train_digits[i],cmap=\"gray\")\n",
        "    plt.title(\"Digits\"+str(train_labels[i]))\n",
        "    plt.axis=(\"off\")\n",
        "    j+=1"
      ],
      "execution_count": null,
      "outputs": [
        {
          "output_type": "display_data",
          "data": {
            "image/png": "[encoded data removed]",
            "text/plain": [
              "<Figure size 1152x1152 with 16 Axes>"
            ]
          },
          "metadata": {
            "tags": [],
            "needs_background": "light"
          }
        }
      ]
    },
    {
      "cell_type": "code",
      "metadata": {
        "id": "q-FCV43L6g95",
        "colab_type": "code",
        "colab": {
          "base_uri": "https://localhost:8080/",
          "height": 934
        },
        "outputId": "47763475-3171-4c43-bb05-9a111bc26751"
      },
      "source": [
        "plt.figure(figsize=(16,16))\n",
        "j=1\n",
        "for i in samples:\n",
        "    plt.subplot(4,4,j)\n",
        "    plt.hist(train_digits[i].flat)\n",
        "    plt.title(\"Digits\"+str(train_labels[i]))\n",
        "   # plt.axis=(\"off\")\n",
        "    j+=1"
      ],
      "execution_count": null,
      "outputs": [
        {
          "output_type": "display_data",
          "data": {
            "image/png": "[encoded data removed]",
            "text/plain": [
              "<Figure size 1152x1152 with 16 Axes>"
            ]
          },
          "metadata": {
            "tags": [],
            "needs_background": "light"
          }
        }
      ]
    },
    {
      "cell_type": "markdown",
      "metadata": {
        "id": "X4PG6M4n8c8R",
        "colab_type": "text"
      },
      "source": [
        "Preprocessing"
      ]
    },
    {
      "cell_type": "markdown",
      "metadata": {
        "id": "pquLM9ir8sEj",
        "colab_type": "text"
      },
      "source": [
        "Scaling"
      ]
    },
    {
      "cell_type": "code",
      "metadata": {
        "id": "4oYP9Akm8oOL",
        "colab_type": "code",
        "colab": {}
      },
      "source": [
        "train_digits_sc=train_digits/255.0\n",
        "test_digits_sc=test_digits/255.0"
      ],
      "execution_count": null,
      "outputs": []
    },
    {
      "cell_type": "code",
      "metadata": {
        "id": "vZSHPD1x9Cb9",
        "colab_type": "code",
        "colab": {
          "base_uri": "https://localhost:8080/",
          "height": 35
        },
        "outputId": "f7a280aa-c104-465e-ed06-71b3da1e510e"
      },
      "source": [
        "train_labels"
      ],
      "execution_count": null,
      "outputs": [
        {
          "output_type": "execute_result",
          "data": {
            "text/plain": [
              "array([5, 0, 4, ..., 5, 6, 8], dtype=uint8)"
            ]
          },
          "metadata": {
            "tags": []
          },
          "execution_count": 48
        }
      ]
    },
    {
      "cell_type": "code",
      "metadata": {
        "id": "7sr-chUO9Eth",
        "colab_type": "code",
        "colab": {}
      },
      "source": [
        "from keras.utils import to_categorical\n"
      ],
      "execution_count": null,
      "outputs": []
    },
    {
      "cell_type": "code",
      "metadata": {
        "id": "lwHW7Oem9L4i",
        "colab_type": "code",
        "colab": {}
      },
      "source": [
        "train_labels_cat=to_categorical(train_labels)"
      ],
      "execution_count": null,
      "outputs": []
    },
    {
      "cell_type": "code",
      "metadata": {
        "id": "CEEaDV3l9R4t",
        "colab_type": "code",
        "colab": {
          "base_uri": "https://localhost:8080/",
          "height": 35
        },
        "outputId": "7f1ba8f4-c347-4db8-8807-ea140bb8b0fb"
      },
      "source": [
        "train_labels_cat[0]"
      ],
      "execution_count": null,
      "outputs": [
        {
          "output_type": "execute_result",
          "data": {
            "text/plain": [
              "array([0., 0., 0., 0., 0., 1., 0., 0., 0., 0.], dtype=float32)"
            ]
          },
          "metadata": {
            "tags": []
          },
          "execution_count": 51
        }
      ]
    },
    {
      "cell_type": "code",
      "metadata": {
        "id": "-dplYFYY9UuB",
        "colab_type": "code",
        "colab": {
          "base_uri": "https://localhost:8080/",
          "height": 35
        },
        "outputId": "35deef40-9a4d-4dc9-e7a3-2b6fd2950837"
      },
      "source": [
        "test_labels_cat=to_categorical(test_labels)\n",
        "test_labels_cat[9]"
      ],
      "execution_count": null,
      "outputs": [
        {
          "output_type": "execute_result",
          "data": {
            "text/plain": [
              "array([0., 0., 0., 0., 0., 0., 0., 0., 0., 1.], dtype=float32)"
            ]
          },
          "metadata": {
            "tags": []
          },
          "execution_count": 53
        }
      ]
    },
    {
      "cell_type": "markdown",
      "metadata": {
        "id": "LOTgXf4s-bZo",
        "colab_type": "text"
      },
      "source": [
        "Split the train data into train and Validation"
      ]
    },
    {
      "cell_type": "code",
      "metadata": {
        "id": "BNz94J5T9gOQ",
        "colab_type": "code",
        "colab": {
          "base_uri": "https://localhost:8080/",
          "height": 72
        },
        "outputId": "4a31f039-8f84-44a9-d6d3-213a73b64915"
      },
      "source": [
        "from sklearn.model_selection import train_test_split\n",
        "X_train,X_val,y_train,y_val=train_test_split(train_digits_sc,train_labels_cat,test_size=0.1,random_state=32)\n",
        "print(X_train.shape)\n",
        "print(X_val.shape)\n",
        "print(y_train.shape)"
      ],
      "execution_count": null,
      "outputs": [
        {
          "output_type": "stream",
          "text": [
            "(54000, 28, 28)\n",
            "(6000, 28, 28)\n",
            "(54000, 10)\n"
          ],
          "name": "stdout"
        }
      ]
    },
    {
      "cell_type": "markdown",
      "metadata": {
        "id": "rWt_Dyv9BQBO",
        "colab_type": "text"
      },
      "source": [
        "Build the model\n"
      ]
    },
    {
      "cell_type": "code",
      "metadata": {
        "id": "b1oSqEdmBIB3",
        "colab_type": "code",
        "colab": {}
      },
      "source": [
        "from keras.models import Sequential\n",
        "from keras.layers import Dense,Flatten"
      ],
      "execution_count": null,
      "outputs": []
    },
    {
      "cell_type": "code",
      "metadata": {
        "id": "U0nMXYwRDB9C",
        "colab_type": "code",
        "colab": {
          "base_uri": "https://localhost:8080/",
          "height": 345
        },
        "outputId": "4b10a835-36c3-45df-deb7-367146788ab8"
      },
      "source": [
        "#We are creating the base model\n",
        "model=Sequential()\n",
        "#Firstlayer\n",
        "model.add(Flatten(input_shape=(28,28)))\n",
        "model.add(Dense(128,activation=\"relu\"))\n",
        "model.add(Dense(64,activation=\"relu\"))\n",
        "model.add(Dense(256,activation=\"relu\"))\n",
        "#Final Layer\n",
        "model.add(Dense(10,activation=\"softmax\"))\n",
        "model.summary()"
      ],
      "execution_count": null,
      "outputs": [
        {
          "output_type": "stream",
          "text": [
            "Model: \"sequential_4\"\n",
            "_________________________________________________________________\n",
            "Layer (type)                 Output Shape              Param #   \n",
            "=================================================================\n",
            "flatten_3 (Flatten)          (None, 784)               0         \n",
            "_________________________________________________________________\n",
            "dense_5 (Dense)              (None, 128)               100480    \n",
            "_________________________________________________________________\n",
            "dense_6 (Dense)              (None, 64)                8256      \n",
            "_________________________________________________________________\n",
            "dense_7 (Dense)              (None, 256)               16640     \n",
            "_________________________________________________________________\n",
            "dense_8 (Dense)              (None, 10)                2570      \n",
            "=================================================================\n",
            "Total params: 127,946\n",
            "Trainable params: 127,946\n",
            "Non-trainable params: 0\n",
            "_________________________________________________________________\n"
          ],
          "name": "stdout"
        }
      ]
    },
    {
      "cell_type": "markdown",
      "metadata": {
        "id": "5fNMdmjC-Zsx",
        "colab_type": "text"
      },
      "source": [
        "Compile the model"
      ]
    },
    {
      "cell_type": "code",
      "metadata": {
        "id": "GvlScu05HSwa",
        "colab_type": "code",
        "colab": {}
      },
      "source": [
        "model.compile(optimizer=\"adam\",loss=tf.keras.losses.CategoricalCrossentropy(),metrics=[\"accuracy\"])"
      ],
      "execution_count": null,
      "outputs": []
    },
    {
      "cell_type": "code",
      "metadata": {
        "id": "7qpAOVauIByc",
        "colab_type": "code",
        "colab": {}
      },
      "source": [
        "#Train the model"
      ],
      "execution_count": null,
      "outputs": []
    },
    {
      "cell_type": "code",
      "metadata": {
        "id": "rbySHt-4JO7w",
        "colab_type": "code",
        "colab": {}
      },
      "source": [
        "history=model.fit(x=X_train,y=y_train,epochs=10,validation_data=(X_val,y_val),batch_size=32)"
      ],
      "execution_count": null,
      "outputs": []
    },
    {
      "cell_type": "code",
      "metadata": {
        "id": "A3QiY4T3JhJK",
        "colab_type": "code",
        "colab": {
          "base_uri": "https://localhost:8080/",
          "height": 54
        },
        "outputId": "7fe41b92-fd6b-4496-b391-5975dbe65c8c"
      },
      "source": [
        "model.evaluate(test_digits_sc,test_labels_cat)"
      ],
      "execution_count": null,
      "outputs": [
        {
          "output_type": "stream",
          "text": [
            "10000/10000 [==============================] - 0s 49us/step\n"
          ],
          "name": "stdout"
        },
        {
          "output_type": "execute_result",
          "data": {
            "text/plain": [
              "[0.12615277702750136, 0.9725000262260437]"
            ]
          },
          "metadata": {
            "tags": []
          },
          "execution_count": 73
        }
      ]
    },
    {
      "cell_type": "code",
      "metadata": {
        "id": "8k6IiG3TPsC0",
        "colab_type": "code",
        "colab": {}
      },
      "source": [
        "print(np.expand_dims(test_digits_sc[0],axis=0))"
      ],
      "execution_count": null,
      "outputs": []
    },
    {
      "cell_type": "code",
      "metadata": {
        "id": "pvxOlJTAQFcM",
        "colab_type": "code",
        "colab": {}
      },
      "source": [
        "model.predict(test_digits_sc[:10])"
      ],
      "execution_count": null,
      "outputs": []
    },
    {
      "cell_type": "code",
      "metadata": {
        "id": "bLqaGa21QREi",
        "colab_type": "code",
        "colab": {
          "base_uri": "https://localhost:8080/",
          "height": 35
        },
        "outputId": "aab11e5d-1995-4b0d-d0dd-45f5d6682be4"
      },
      "source": [
        "model.predict_classes(np.expand_dims(test_digits_sc[0],axis=0))"
      ],
      "execution_count": null,
      "outputs": [
        {
          "output_type": "execute_result",
          "data": {
            "text/plain": [
              "array([7])"
            ]
          },
          "metadata": {
            "tags": []
          },
          "execution_count": 78
        }
      ]
    },
    {
      "cell_type": "code",
      "metadata": {
        "id": "wCWpoGOSRxU0",
        "colab_type": "code",
        "colab": {
          "base_uri": "https://localhost:8080/",
          "height": 745
        },
        "outputId": "070f71cf-0d1f-43c7-8a72-32426607635e"
      },
      "source": [
        "history.history"
      ],
      "execution_count": null,
      "outputs": [
        {
          "output_type": "execute_result",
          "data": {
            "text/plain": [
              "{'accuracy': [0.9260741,\n",
              "  0.9670741,\n",
              "  0.97653705,\n",
              "  0.9812963,\n",
              "  0.98437035,\n",
              "  0.9872778,\n",
              "  0.98803705,\n",
              "  0.99035186,\n",
              "  0.9913889,\n",
              "  0.99174076],\n",
              " 'loss': [0.2445693280616844,\n",
              "  0.10618544158608549,\n",
              "  0.07683648854328526,\n",
              "  0.058996178785528715,\n",
              "  0.049940633469442317,\n",
              "  0.040352942641682196,\n",
              "  0.03635394150225006,\n",
              "  0.030191005829641925,\n",
              "  0.027043901459311775,\n",
              "  0.024405094259575384],\n",
              " 'val_accuracy': [0.9614999890327454,\n",
              "  0.9598333239555359,\n",
              "  0.9723333120346069,\n",
              "  0.968666672706604,\n",
              "  0.9741666913032532,\n",
              "  0.9710000157356262,\n",
              "  0.9735000133514404,\n",
              "  0.968833327293396,\n",
              "  0.9700000286102295,\n",
              "  0.9714999794960022],\n",
              " 'val_loss': [0.1335564510996143,\n",
              "  0.1313641556277871,\n",
              "  0.09832707248193523,\n",
              "  0.11341568698796133,\n",
              "  0.0985024957327793,\n",
              "  0.11744689034608503,\n",
              "  0.10271337863833954,\n",
              "  0.1354896835917607,\n",
              "  0.13293962644025062,\n",
              "  0.15289165405385818]}"
            ]
          },
          "metadata": {
            "tags": []
          },
          "execution_count": 79
        }
      ]
    },
    {
      "cell_type": "code",
      "metadata": {
        "id": "dX6vHAGmSSFM",
        "colab_type": "code",
        "colab": {
          "base_uri": "https://localhost:8080/",
          "height": 35
        },
        "outputId": "877b519f-480a-42ef-d181-df0e11a53b60"
      },
      "source": [
        "history.history.keys()"
      ],
      "execution_count": null,
      "outputs": [
        {
          "output_type": "execute_result",
          "data": {
            "text/plain": [
              "dict_keys(['val_loss', 'val_accuracy', 'loss', 'accuracy'])"
            ]
          },
          "metadata": {
            "tags": []
          },
          "execution_count": 80
        }
      ]
    },
    {
      "cell_type": "code",
      "metadata": {
        "id": "9Q_6bapASWoS",
        "colab_type": "code",
        "colab": {
          "base_uri": "https://localhost:8080/",
          "height": 283
        },
        "outputId": "50b2cd5c-f72a-420f-efc1-4b566f696ac5"
      },
      "source": [
        "\n",
        "plt.plot(range(1,11),history.history[\"accuracy\"])\n",
        "plt.plot(range(1,11),history.history[\"val_accuracy\"])"
      ],
      "execution_count": null,
      "outputs": [
        {
          "output_type": "execute_result",
          "data": {
            "text/plain": [
              "[<matplotlib.lines.Line2D at 0x7f196abb9208>]"
            ]
          },
          "metadata": {
            "tags": []
          },
          "execution_count": 81
        },
        {
          "output_type": "display_data",
          "data": {
            "image/png": "[encoded data removed]",
            "text/plain": [
              "<Figure size 432x288 with 1 Axes>"
            ]
          },
          "metadata": {
            "tags": [],
            "needs_background": "light"
          }
        }
      ]
    },
    {
      "cell_type": "code",
      "metadata": {
        "id": "BD-db8-USylV",
        "colab_type": "code",
        "colab": {
          "base_uri": "https://localhost:8080/",
          "height": 54
        },
        "outputId": "32f7e2fd-e0c1-407d-9da9-141d3ca0c454"
      },
      "source": [
        "#Compare metrics\n",
        "model.evaluate(test_digits_sc,test_labels_cat)"
      ],
      "execution_count": null,
      "outputs": [
        {
          "output_type": "stream",
          "text": [
            "10000/10000 [==============================] - 0s 30us/step\n"
          ],
          "name": "stdout"
        },
        {
          "output_type": "execute_result",
          "data": {
            "text/plain": [
              "[0.12615277702750136, 0.9725000262260437]"
            ]
          },
          "metadata": {
            "tags": []
          },
          "execution_count": 82
        }
      ]
    },
    {
      "cell_type": "code",
      "metadata": {
        "id": "0RydUJrpTC23",
        "colab_type": "code",
        "colab": {}
      },
      "source": [
        ""
      ],
      "execution_count": null,
      "outputs": []
    }
  ]
}